{
 "cells": [
  {
   "cell_type": "code",
   "execution_count": null,
   "metadata": {},
   "outputs": [],
   "source": [
    "import json\n",
    "import requests\n",
    "import time"
   ]
  },
  {
   "cell_type": "code",
   "execution_count": null,
   "id": "0e5233f4",
   "metadata": {},
   "outputs": [],
   "source": [
    "with open(\"../train-v2.0.json\", 'r') as f:\n",
    "    data = json.load(f)"
   ]
  },
  {
   "cell_type": "code",
   "execution_count": null,
   "id": "0485c66a",
   "metadata": {},
   "outputs": [],
   "source": [
    "data"
   ]
  },
  {
   "cell_type": "code",
   "execution_count": null,
   "id": "3685603e",
   "metadata": {},
   "outputs": [],
   "source": [
    "def get_qa(topic, data):\n",
    "    q = []\n",
    "    a = []\n",
    "    for d in data['data']:\n",
    "        if d['title']==topic:\n",
    "            for paragraph in d['paragraphs']:\n",
    "                for qa in paragraph['qas']:\n",
    "                    if not qa['is_impossible']:\n",
    "                        q.append(qa['question'])\n",
    "                        a.append(qa['answers'][0]['text'])\n",
    "            return q,a\n",
    "\n",
    "questions, answers = get_qa(topic='Premier_League', data=data)\n",
    "print(\"Number of available questions: {}\".format(len(questions)))"
   ]
  },
  {
   "cell_type": "code",
   "execution_count": null,
   "id": "edd1d378",
   "metadata": {},
   "outputs": [],
   "source": []
  }
 ],
 "metadata": {
  "language_info": {
   "name": "python"
  }
 },
 "nbformat": 4,
 "nbformat_minor": 5
}
